{
 "cells": [
  {
   "cell_type": "code",
   "execution_count": 1,
   "metadata": {},
   "outputs": [],
   "source": [
    "import numpy as np\n",
    "import pandas as pd"
   ]
  },
  {
   "cell_type": "code",
   "execution_count": 2,
   "metadata": {},
   "outputs": [],
   "source": [
    "rng = pd.date_range('3/6/2012 00:00', periods = 15, freq = 'D')\n",
    "rng.tz"
   ]
  },
  {
   "cell_type": "code",
   "execution_count": 3,
   "metadata": {},
   "outputs": [
    {
     "data": {
      "text/plain": [
       "<DstTzInfo 'Europe/London' LMT-1 day, 23:59:00 STD>"
      ]
     },
     "execution_count": 3,
     "metadata": {},
     "output_type": "execute_result"
    }
   ],
   "source": [
    "rng_tz = pd.date_range('3/6/2012 00:00', periods = 15, freq = 'D', tz = 'Europe/London')\n",
    "rng_tz.tz"
   ]
  },
  {
   "cell_type": "code",
   "execution_count": 4,
   "metadata": {},
   "outputs": [
    {
     "name": "stdout",
     "output_type": "stream",
     "text": [
      "440\n",
      "593\n",
      "{'Etc/GMT-14', 'Etc/GMT+9', 'Australia/LHI', 'America/Godthab', 'Portugal', 'Etc/GMT+5', 'ROC', 'Australia/Tasmania', 'GMT+0', 'Etc/GMT-9', 'Asia/Saigon', 'US/Michigan', 'Navajo', 'Etc/Universal', 'Brazil/Acre', 'US/East-Indiana', 'Etc/GMT+3', 'Asia/Macao', 'Canada/Yukon', 'Kwajalein', 'PST8PDT', 'America/Buenos_Aires', 'Atlantic/Jan_Mayen', 'Etc/Greenwich', 'Asia/Dacca', 'WET', 'America/Montreal', 'Etc/GMT+6', 'America/Virgin', 'Asia/Rangoon', 'Asia/Chongqing', 'Etc/GMT-8', 'US/Indiana-Starke', 'MET', 'Universal', 'Etc/Zulu', 'Hongkong', 'Etc/GMT-7', 'Africa/Asmera', 'CST6CDT', 'Etc/UTC', 'Asia/Katmandu', 'US/Samoa', 'Pacific/Truk', 'US/Aleutian', 'Asia/Tel_Aviv', 'America/Atka', 'America/Indianapolis', 'Etc/GMT+8', 'Australia/NSW', 'Asia/Ulan_Bator', 'MST', 'CET', 'Etc/GMT+0', 'ROK', 'Etc/GMT-10', 'Mexico/BajaNorte', 'Iran', 'Brazil/East', 'Etc/GMT-2', 'Asia/Harbin', 'Australia/Queensland', 'Japan', 'Brazil/West', 'Asia/Chungking', 'Etc/GMT-0', 'Asia/Kashgar', 'Etc/GMT0', 'Etc/GMT', 'Etc/UCT', 'Singapore', 'Australia/West', 'Etc/GMT+10', 'America/Argentina/ComodRivadavia', 'NZ-CHAT', 'Etc/GMT-3', 'EST', 'Asia/Istanbul', 'Pacific/Yap', 'America/Shiprock', 'America/Rosario', 'GB-Eire', 'America/Jujuy', 'Zulu', 'Jamaica', 'Cuba', 'Etc/GMT-1', 'EET', 'America/Fort_Wayne', 'Pacific/Ponape', 'Etc/GMT-4', 'GMT0', 'Africa/Timbuktu', 'MST7MDT', 'America/Knox_IN', 'HST', 'America/Mendoza', 'Etc/GMT+1', 'Etc/GMT+12', 'Pacific/Johnston', 'Eire', 'Etc/GMT+7', 'GMT-0', 'Europe/Tiraspol', 'W-SU', 'America/Louisville', 'Etc/GMT+4', 'Asia/Thimbu', 'Egypt', 'America/Cordoba', 'Australia/ACT', 'PRC', 'America/Santa_Isabel', 'Etc/GMT-6', 'NZ', 'America/Catamarca', 'Europe/Nicosia', 'America/Coral_Harbour', 'Israel', 'Europe/Belfast', 'EST5EDT', 'Asia/Ujung_Pandang', 'Antarctica/South_Pole', 'Chile/EasterIsland', 'Chile/Continental', 'Canada/Saskatchewan', 'GB', 'Australia/Canberra', 'UCT', 'Turkey', 'Etc/GMT+2', 'Etc/GMT-11', 'America/Porto_Acre', 'Etc/GMT-5', 'Australia/South', 'Australia/Victoria', 'Mexico/General', 'Australia/North', 'Etc/GMT+11', 'Pacific/Samoa', 'Australia/Yancowinna', 'Brazil/DeNoronha', 'Iceland', 'Poland', 'Mexico/BajaSur', 'America/Ensenada', 'Libya', 'Etc/GMT-12', 'Greenwich', 'Asia/Calcutta', 'Atlantic/Faeroe', 'Asia/Ashkhabad', 'Etc/GMT-13'}\n"
     ]
    }
   ],
   "source": [
    "from pytz import common_timezones, all_timezones\n",
    "print(len(common_timezones))\n",
    "print(len(all_timezones))\n",
    "print(set(all_timezones) - set(common_timezones))"
   ]
  },
  {
   "cell_type": "code",
   "execution_count": 5,
   "metadata": {},
   "outputs": [
    {
     "data": {
      "text/plain": [
       "Timestamp('2016-07-10 08:50:00')"
      ]
     },
     "execution_count": 5,
     "metadata": {},
     "output_type": "execute_result"
    }
   ],
   "source": [
    "# You can also localize a naive timestamp\n",
    "t_naive = pd.Timestamp('2016-07-10 08:50')\n",
    "t_naive"
   ]
  },
  {
   "cell_type": "code",
   "execution_count": 6,
   "metadata": {},
   "outputs": [
    {
     "data": {
      "text/plain": [
       "Timestamp('2016-07-10 08:50:00-0500', tz='US/Central')"
      ]
     },
     "execution_count": 6,
     "metadata": {},
     "output_type": "execute_result"
    }
   ],
   "source": [
    "t = t_naive.tz_localize(tz = 'US/Central')\n",
    "t"
   ]
  },
  {
   "cell_type": "code",
   "execution_count": 7,
   "metadata": {},
   "outputs": [
    {
     "data": {
      "text/plain": [
       "Timestamp('2016-07-10 22:50:00+0900', tz='Asia/Tokyo')"
      ]
     },
     "execution_count": 7,
     "metadata": {},
     "output_type": "execute_result"
    }
   ],
   "source": [
    "t.tz_convert('Asia/Tokyo')"
   ]
  },
  {
   "cell_type": "code",
   "execution_count": 8,
   "metadata": {},
   "outputs": [
    {
     "data": {
      "text/plain": [
       "2016-03-10 00:00:00-06:00    0\n",
       "2016-03-11 00:00:00-06:00    1\n",
       "2016-03-12 00:00:00-06:00    2\n",
       "2016-03-13 00:00:00-06:00    3\n",
       "2016-03-14 00:00:00-05:00    4\n",
       "2016-03-15 00:00:00-05:00    5\n",
       "2016-03-16 00:00:00-05:00    6\n",
       "2016-03-17 00:00:00-05:00    7\n",
       "2016-03-18 00:00:00-05:00    8\n",
       "2016-03-19 00:00:00-05:00    9\n",
       "Freq: D, dtype: int64"
      ]
     },
     "execution_count": 8,
     "metadata": {},
     "output_type": "execute_result"
    }
   ],
   "source": [
    "# how to handle daylight savings?\n",
    "rng = pd.date_range('2016-03-10', periods=10, tz='US/Central')\n",
    "ts = pd.Series(range(10), index=rng)\n",
    "ts"
   ]
  },
  {
   "cell_type": "code",
   "execution_count": 9,
   "metadata": {},
   "outputs": [
    {
     "data": {
      "text/plain": [
       "2016-03-10 00:00:00+00:00    0\n",
       "2016-03-11 00:00:00+00:00    1\n",
       "2016-03-12 00:00:00+00:00    2\n",
       "2016-03-13 00:00:00+00:00    3\n",
       "2016-03-14 00:00:00+00:00    4\n",
       "2016-03-15 00:00:00+00:00    5\n",
       "2016-03-16 00:00:00+00:00    6\n",
       "2016-03-17 00:00:00+00:00    7\n",
       "2016-03-18 00:00:00+00:00    8\n",
       "2016-03-19 00:00:00+00:00    9\n",
       "Freq: D, dtype: int64"
      ]
     },
     "execution_count": 9,
     "metadata": {},
     "output_type": "execute_result"
    }
   ],
   "source": [
    "rng = pd.date_range('2016-03-10', periods=10, tz='utc')\n",
    "ts = pd.Series(range(10), index=rng)\n",
    "ts"
   ]
  },
  {
   "cell_type": "code",
   "execution_count": 10,
   "metadata": {},
   "outputs": [
    {
     "data": {
      "text/plain": [
       "2016-03-09 18:00:00-06:00    0\n",
       "2016-03-10 18:00:00-06:00    1\n",
       "2016-03-11 18:00:00-06:00    2\n",
       "2016-03-12 18:00:00-06:00    3\n",
       "2016-03-13 19:00:00-05:00    4\n",
       "2016-03-14 19:00:00-05:00    5\n",
       "2016-03-15 19:00:00-05:00    6\n",
       "2016-03-16 19:00:00-05:00    7\n",
       "2016-03-17 19:00:00-05:00    8\n",
       "2016-03-18 19:00:00-05:00    9\n",
       "Freq: D, dtype: int64"
      ]
     },
     "execution_count": 10,
     "metadata": {},
     "output_type": "execute_result"
    }
   ],
   "source": [
    "ts.tz_convert('US/Central')"
   ]
  },
  {
   "cell_type": "code",
   "execution_count": 11,
   "metadata": {},
   "outputs": [
    {
     "data": {
      "text/plain": [
       "DatetimeIndex(['2016-03-12 22:00:00-05:00', '2016-03-12 23:00:00-05:00',\n",
       "               '2016-03-13 00:00:00-05:00', '2016-03-13 01:00:00-05:00',\n",
       "               '2016-03-13 03:00:00-04:00', '2016-03-13 04:00:00-04:00',\n",
       "               '2016-03-13 05:00:00-04:00', '2016-03-13 06:00:00-04:00',\n",
       "               '2016-03-13 07:00:00-04:00', '2016-03-13 08:00:00-04:00',\n",
       "               '2016-03-13 09:00:00-04:00', '2016-03-13 10:00:00-04:00'],\n",
       "              dtype='datetime64[ns, US/Eastern]', freq='H')"
      ]
     },
     "execution_count": 11,
     "metadata": {},
     "output_type": "execute_result"
    }
   ],
   "source": [
    "pd.date_range('03-12-2016 22:00', periods = 12, freq = 'H', tz = 'US/Eastern')"
   ]
  },
  {
   "cell_type": "code",
   "execution_count": 12,
   "metadata": {},
   "outputs": [
    {
     "ename": "NonExistentTimeError",
     "evalue": "2016-03-13 02:00:00",
     "output_type": "error",
     "traceback": [
      "\u001b[1;31m---------------------------------------------------------------------------\u001b[0m",
      "\u001b[1;31mNonExistentTimeError\u001b[0m                      Traceback (most recent call last)",
      "\u001b[1;32m<ipython-input-12-5c0a4f298106>\u001b[0m in \u001b[0;36m<module>\u001b[1;34m\u001b[0m\n\u001b[0;32m      1\u001b[0m \u001b[1;31m# May autocorrect an error rather than giving you a non-existent time error\u001b[0m\u001b[1;33m\u001b[0m\u001b[1;33m\u001b[0m\u001b[1;33m\u001b[0m\u001b[0m\n\u001b[1;32m----> 2\u001b[1;33m \u001b[0mpd\u001b[0m\u001b[1;33m.\u001b[0m\u001b[0mTimestamp\u001b[0m\u001b[1;33m(\u001b[0m\u001b[1;34m'2016-03-13 02:00'\u001b[0m\u001b[1;33m,\u001b[0m \u001b[0mtz\u001b[0m \u001b[1;33m=\u001b[0m \u001b[1;34m'US/Eastern'\u001b[0m\u001b[1;33m)\u001b[0m\u001b[1;33m\u001b[0m\u001b[1;33m\u001b[0m\u001b[0m\n\u001b[0m",
      "\u001b[1;32mpandas\\_libs\\tslibs\\timestamps.pyx\u001b[0m in \u001b[0;36mpandas._libs.tslibs.timestamps.Timestamp.__new__\u001b[1;34m()\u001b[0m\n",
      "\u001b[1;32mpandas\\_libs\\tslibs\\conversion.pyx\u001b[0m in \u001b[0;36mpandas._libs.tslibs.conversion.convert_to_tsobject\u001b[1;34m()\u001b[0m\n",
      "\u001b[1;32mpandas\\_libs\\tslibs\\conversion.pyx\u001b[0m in \u001b[0;36mpandas._libs.tslibs.conversion._convert_str_to_tsobject\u001b[1;34m()\u001b[0m\n",
      "\u001b[1;32mpandas\\_libs\\tslibs\\tzconversion.pyx\u001b[0m in \u001b[0;36mpandas._libs.tslibs.tzconversion.tz_localize_to_utc_single\u001b[1;34m()\u001b[0m\n",
      "\u001b[1;32mpandas\\_libs\\tslibs\\tzconversion.pyx\u001b[0m in \u001b[0;36mpandas._libs.tslibs.tzconversion.tz_localize_to_utc\u001b[1;34m()\u001b[0m\n",
      "\u001b[1;31mNonExistentTimeError\u001b[0m: 2016-03-13 02:00:00"
     ]
    }
   ],
   "source": [
    "# May autocorrect an error rather than giving you a non-existent time error\n",
    "pd.Timestamp('2016-03-13 02:00', tz = 'US/Eastern')"
   ]
  },
  {
   "cell_type": "code",
   "execution_count": null,
   "metadata": {},
   "outputs": [],
   "source": []
  }
 ],
 "metadata": {
  "kernelspec": {
   "display_name": "Python 3",
   "language": "python",
   "name": "python3"
  },
  "language_info": {
   "codemirror_mode": {
    "name": "ipython",
    "version": 3
   },
   "file_extension": ".py",
   "mimetype": "text/x-python",
   "name": "python",
   "nbconvert_exporter": "python",
   "pygments_lexer": "ipython3",
   "version": "3.8.8"
  },
  "widgets": {
   "state": {},
   "version": "1.1.1"
  }
 },
 "nbformat": 4,
 "nbformat_minor": 1
}
